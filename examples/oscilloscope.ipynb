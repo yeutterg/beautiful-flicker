{
 "cells": [
  {
   "cell_type": "code",
   "execution_count": 1,
   "metadata": {},
   "outputs": [
    {
     "ename": "ModuleNotFoundError",
     "evalue": "No module named 'source'",
     "output_type": "error",
     "traceback": [
      "\u001b[0;31m---------------------------------------------------------------------------\u001b[0m",
      "\u001b[0;31mModuleNotFoundError\u001b[0m                       Traceback (most recent call last)",
      "\u001b[0;32m<ipython-input-1-aaf722ca29d9>\u001b[0m in \u001b[0;36m<module>\u001b[0;34m\u001b[0m\n\u001b[1;32m      6\u001b[0m \u001b[0;34m\u001b[0m\u001b[0m\n\u001b[1;32m      7\u001b[0m \u001b[0;31m# Import the CSV\u001b[0m\u001b[0;34m\u001b[0m\u001b[0;34m\u001b[0m\u001b[0m\n\u001b[0;32m----> 8\u001b[0;31m \u001b[0;32mfrom\u001b[0m \u001b[0msource\u001b[0m\u001b[0;34m.\u001b[0m\u001b[0mcalculations\u001b[0m \u001b[0;32mimport\u001b[0m \u001b[0mimport_waveform_csv\u001b[0m\u001b[0;34m\u001b[0m\u001b[0m\n\u001b[0m\u001b[1;32m      9\u001b[0m \u001b[0;34m\u001b[0m\u001b[0m\n\u001b[1;32m     10\u001b[0m \u001b[0mexample_waveform\u001b[0m \u001b[0;34m=\u001b[0m \u001b[0mimport_waveform_csv\u001b[0m\u001b[0;34m(\u001b[0m\u001b[0;34m'../CSVs/Example_Waveform.csv'\u001b[0m\u001b[0;34m)\u001b[0m\u001b[0;34m\u001b[0m\u001b[0m\n",
      "\u001b[0;31mModuleNotFoundError\u001b[0m: No module named 'source'"
     ]
    }
   ],
   "source": [
    "%matplotlib inline\n",
    "\n",
    "# Add the topmost folder to the path\n",
    "import sys\n",
    "sys.path.append('../')\n",
    "\n",
    "# Import the CSV\n",
    "from source.calculations import import_waveform_csv\n",
    "\n",
    "example_waveform = import_waveform_csv('../CSVs/Example_Waveform.csv')"
   ]
  },
  {
   "cell_type": "code",
   "execution_count": null,
   "metadata": {},
   "outputs": [],
   "source": [
    "# Remove noise\n",
    "from source.calculations import denoise\n",
    "\n",
    "example_waveform_denoise = denoise(example_waveform)"
   ]
  },
  {
   "cell_type": "code",
   "execution_count": null,
   "metadata": {},
   "outputs": [],
   "source": [
    "# Plot the data\n",
    "from source.plot import frequency_graph\n",
    "\n",
    "frequency_graph(example_waveform)\n",
    "frequency_graph(example_waveform_denoise)"
   ]
  },
  {
   "cell_type": "code",
   "execution_count": null,
   "metadata": {},
   "outputs": [],
   "source": [
    "from source.calculations import frequency, period\n",
    "\n",
    "print(frequency(example_waveform_denoise))\n",
    "print(period(example_waveform_denoise))"
   ]
  },
  {
   "cell_type": "code",
   "execution_count": null,
   "metadata": {},
   "outputs": [],
   "source": [
    "from source.calculations import pct_flicker\n",
    "\n",
    "print(pct_flicker(example_waveform_denoise))"
   ]
  },
  {
   "cell_type": "code",
   "execution_count": null,
   "metadata": {},
   "outputs": [],
   "source": [
    "from source.calculations import get_periods\n",
    "\n",
    "one_period = get_periods(example_waveform_denoise, 2)\n",
    "print(one_period)\n",
    "\n",
    "frequency_graph(one_period)"
   ]
  },
  {
   "cell_type": "code",
   "execution_count": null,
   "metadata": {},
   "outputs": [],
   "source": [
    "from source.calculations import flicker_index\n",
    "flicker_idx = flicker_index(example_waveform_denoise)\n",
    "\n",
    "print(flicker_idx)"
   ]
  }
 ],
 "metadata": {
  "kernelspec": {
   "display_name": "Python 3",
   "language": "python",
   "name": "python3"
  },
  "language_info": {
   "codemirror_mode": {
    "name": "ipython",
    "version": 3
   },
   "file_extension": ".py",
   "mimetype": "text/x-python",
   "name": "python",
   "nbconvert_exporter": "python",
   "pygments_lexer": "ipython3",
   "version": "3.7.0"
  }
 },
 "nbformat": 4,
 "nbformat_minor": 2
}
